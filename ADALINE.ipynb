{
 "cells": [
  {
   "cell_type": "markdown",
   "id": "d1193dfe-d12e-4f6f-92bc-9cbe9358e0f4",
   "metadata": {},
   "source": [
    "# ADALINE"
   ]
  }
 ],
 "metadata": {
  "kernelspec": {
   "display_name": "Python 3 (ipykernel)",
   "language": "python",
   "name": "python3"
  },
  "language_info": {
   "codemirror_mode": {
    "name": "ipython",
    "version": 3
   },
   "file_extension": ".py",
   "mimetype": "text/x-python",
   "name": "python",
   "nbconvert_exporter": "python",
   "pygments_lexer": "ipython3",
   "version": "3.13.5"
  }
 },
 "nbformat": 4,
 "nbformat_minor": 5
}
